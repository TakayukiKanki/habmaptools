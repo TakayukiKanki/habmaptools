{
 "cells": [
  {
   "cell_type": "code",
   "execution_count": 4,
   "metadata": {},
   "outputs": [],
   "source": [
    "using CSV\n",
    "using DataFrames\n",
    "using Statistics\n",
    "using MultivariateStats\n",
    "using Distances\n",
    "using LinearAlgebra"
   ]
  },
  {
   "cell_type": "markdown",
   "metadata": {},
   "source": [
    "Cf. Python: Wall time: 2h 16min 21s(136 min.) 100 face >> 35 sec.\n",
    "calcs01 19.4 sec. / 19.3 sec.\n",
    "calcs02 18.9 sec. / 18.8 sec. (modi.) "
   ]
  },
  {
   "cell_type": "code",
   "execution_count": 145,
   "metadata": {},
   "outputs": [
    {
     "name": "stdout",
     "output_type": "stream",
     "text": [
      "23077 310354\n",
      " 26.897974 seconds (644.57 M allocations: 10.965 GiB, 7.48% gc time)\n"
     ]
    },
    {
     "data": {
      "text/plain": [
       "23077×12 Array{Float16,2}:\n",
       " -1.176   0.7563  0.646    0.6963  0.7236  …  -0.1681    -0.2727   0.0  0.0\n",
       " -0.7466  1.186   0.0737   0.1735  0.4282      0.05215   -0.1268   0.0  0.0\n",
       " -0.756   1.176   0.0723   0.1642  0.4236      0.04898   -0.1387   0.0  0.0\n",
       " -0.739   1.193   0.05783  0.1494  0.427       0.04736   -0.11316  0.0  0.0\n",
       " -0.7583  1.174   0.07355  0.1617  0.4216      0.03244   -0.141    0.0  0.0\n",
       " -0.762   1.17    0.07623  0.1693  0.4177  …   0.01081   -0.1434   0.0  0.0\n",
       " -0.752   1.18    0.07635  0.1681  0.423       0.0514    -0.1351   0.0  0.0\n",
       " -0.722   1.21    0.0596   0.1484  0.4177      0.04523   -0.0928   0.0  0.0\n",
       " -0.741   1.19    0.05463  0.147   0.4246      0.03952   -0.11285  0.0  0.0\n",
       " -0.7524  1.18    0.06805  0.1749  0.4219      0.00896   -0.1273   0.0  0.0\n",
       " -0.755   1.177   0.0763   0.1725  0.4194  …  -0.002615  -0.129    0.0  0.0\n",
       " -0.778   1.154   0.0813   0.1693  0.402      -0.01852   -0.1627   0.0  0.0\n",
       " -0.759   1.173   0.07294  0.1613  0.4211      0.05353   -0.1465   0.0  0.0\n",
       "  ⋮                                        ⋱                       ⋮    \n",
       " -0.587   1.345   0.0      0.0     0.0     …   0.0        0.0      0.0  0.0\n",
       " -0.5903  1.342   0.0      0.0     0.0         0.0        0.0      0.0  0.0\n",
       " -0.5625  1.369   0.0      0.0     0.0         0.0        0.0      0.0  0.0\n",
       " -0.588   1.344   0.0      0.0     0.0         0.0        0.0      0.0  0.0\n",
       " -0.55    1.382   0.0      0.0     0.0         0.0        0.0      0.0  0.0\n",
       " -0.5645  1.367   0.0      0.0     0.0     …   0.0        0.0      0.0  0.0\n",
       " -0.564   1.368   0.0      0.0     0.0         0.0        0.0      0.0  0.0\n",
       " -0.5757  1.356   0.0      0.0     0.0         0.0        0.0      0.0  0.0\n",
       " -0.5815  1.351   0.0      0.0     0.0         0.0        0.0      0.0  0.0\n",
       " -0.5674  1.364   0.0      0.0     0.0         0.0        0.0      0.0  0.0\n",
       " -0.5825  1.35    0.0      0.0     0.0     …   0.0        0.0      0.0  0.0\n",
       " -0.556   1.376   0.0      0.0     0.0         0.0        0.0      0.0  0.0"
      ]
     },
     "execution_count": 145,
     "metadata": {},
     "output_type": "execute_result"
    }
   ],
   "source": [
    "function calcs01(iter)\n",
    "    path_home=\"C:/Usees/KANKI/Documents/github/habmap\"\n",
    "    path_file_face=\"C:/Users/KANKI/Documents/github/habmap/Sfm_model/modelA01/ply_parts/faces_dataset.csv\"\n",
    "    path_file_v5=\"C:/Users/KANKI/Documents/github/habmap/Sfm_model/modelA01/ply_parts/vertice_dataset.csv\"\n",
    "    path_file_v1=\"C:/Users/KANKI/Documents/github/habmap/Sfm_model/modelA01/ply_parts/vertice_dataset_raw.csv\"\n",
    "    table_f=CSV.read(path_file_face,header=false, DataFrame)\n",
    "    table_v5=CSV.read(path_file_v5,header=false, DataFrame)\n",
    "    table_v1=CSV.read(path_file_v1,header=false, DataFrame)\n",
    "    \n",
    "    table_f=convert(Matrix,table_f)\n",
    "    table_v5=convert(Matrix,table_v5)\n",
    "    table_v1=convert(Matrix,table_v1)\n",
    "\n",
    "    row, col=size(table_f)\n",
    "    row_v1, col_v1=size(table_v1)\n",
    "    println(row, \" \" , row_v1)\n",
    "    \n",
    "    g=zeros(Float16,row_v1,3)  \n",
    "    terrain_variables=zeros(Float16, row, 12)\n",
    "\n",
    "    bottom_all=findmin(table_v5[:,3])[1]    \n",
    "    for c=1:row\n",
    "        for d=1:3\n",
    "            g[c,d]=(table_v5[table_f[c,1]+1,d]+table_v5[table_f[c,2]+1,d]+table_v5[table_f[c,3]+1,d])/3\n",
    "        end\n",
    "    end\n",
    "    \n",
    "    for c=1:row\n",
    "        terrain_variables[c,1]=g[c,3]\n",
    "        terrain_variables[c,2]=g[c,3]-bottom_all\n",
    "    end\n",
    "    \n",
    "    for c=1:iter\n",
    "        #index=findall(g[c,1]-0.8 .< table_v1[:,1] .< g[c,1]+0.8)\n",
    "        #println(size(index)[1]/row_v1)\n",
    "        distance_plane=zeros(Float32, row_v1, 1)\n",
    "        distance=zeros(Float32, row_v1, 1)\n",
    "        ver_in_ker4=Vector{Float64}(undef, 3)\n",
    "        ver_in_ker3=Vector{Float64}(undef, 3)\n",
    "        ver_in_ker2=Vector{Float64}(undef, 3)\n",
    "        ver_in_ker1=Vector{Float64}(undef, 3)\n",
    "\n",
    "        for i2=1:row_v1    \n",
    "            distance_plane[i2,1]=(table_v1[i2,1]-g[c,1])^2+(table_v1[i2,2]-g[c,2])^2\n",
    "            distance[i2,1]=distance_plane[i2,1]+(table_v1[i2,3]-g[c,3])^2\n",
    "        end\n",
    "        \n",
    "        index_p4=findall(distance_plane .< 0.64)\n",
    "        index_p3=findall(distance_plane .< 0.16)\n",
    "        index_p2=findall(distance_plane .< 0.04)\n",
    "        index_p1=findall(distance_plane .< 0.01)\n",
    "        index4=findall(distance .< 0.64)\n",
    "        index3=findall(distance .< 0.16)\n",
    "        index2=findall(distance .< 0.04)\n",
    "        index1=findall(distance .< 0.01)\n",
    "        \n",
    "        ver_in_ker4=zeros(Float32, size(index4)[1], 3)\n",
    "        ver_in_ker3=zeros(Float32, size(index3)[1], 3)\n",
    "        ver_in_ker2=zeros(Float32, size(index2)[1], 3)\n",
    "        ver_in_ker1=zeros(Float32, size(index1)[1], 3)\n",
    "        ver_in_ker_p4=zeros(Float32, size(index_p4)[1], 3)\n",
    "        ver_in_ker_p3=zeros(Float32, size(index_p3)[1], 3)\n",
    "        ver_in_ker_p2=zeros(Float32, size(index_p2)[1], 3)\n",
    "        ver_in_ker_p1=zeros(Float32, size(index_p1)[1], 3)        \n",
    "        \n",
    "        count=1\n",
    "        for index in index4\n",
    "            ver_in_ker4[count,1:3]=table_v1[index[1],1:3]\n",
    "            count+=1\n",
    "        end\n",
    "        count=1\n",
    "        for index in index3\n",
    "            ver_in_ker3[count,1:3]=table_v1[index[1],1:3]\n",
    "            count+=1\n",
    "        end\n",
    "        count=1\n",
    "        for index in index2\n",
    "            ver_in_ker2[count,1:3]=table_v1[index[1],1:3]\n",
    "            count+=1\n",
    "        end\n",
    "        count=1\n",
    "        for index in index1\n",
    "            ver_in_ker1[count,1:3]=table_v1[index[1],1:3]\n",
    "            count+=1\n",
    "        end\n",
    "        \n",
    "        count=1\n",
    "        for index in index_p4\n",
    "            ver_in_ker_p4[count,1:3]=table_v1[index[1],1:3]\n",
    "            count+=1\n",
    "        end\n",
    "        count=1\n",
    "        for index in index_p3\n",
    "            ver_in_ker_p3[count,1:3]=table_v1[index[1],1:3]\n",
    "            count+=1\n",
    "        end\n",
    "        count=1\n",
    "        for index in index_p2\n",
    "            ver_in_ker_p2[count,1:3]=table_v1[index[1],1:3]\n",
    "            count+=1\n",
    "        end\n",
    "        count=1\n",
    "        for index in index_p1\n",
    "            ver_in_ker_p1[count,1:3]=table_v1[index[1],1:3]\n",
    "            count+=1\n",
    "        end\n",
    "        \n",
    "        bottom1=findmin(ver_in_ker_p1[:,3])[1]\n",
    "        bottom2=findmin(ver_in_ker_p2[:,3])[1]\n",
    "        bottom3=findmin(ver_in_ker_p3[:,3])[1]\n",
    "        bottom4=findmin(ver_in_ker_p4[:,3])[1]\n",
    "        terrain_variables[c,3]=g[c,3]-bottom1\n",
    "        terrain_variables[c,4]=g[c,3]-bottom2\n",
    "        terrain_variables[c,5]=g[c,3]-bottom3\n",
    "        terrain_variables[c,6]=g[c,3]-bottom4\n",
    "        meanz1=Statistics.mean(ver_in_ker_p1[:,3])\n",
    "        meanz2=Statistics.mean(ver_in_ker_p2[:,3])\n",
    "        meanz3=Statistics.mean(ver_in_ker_p3[:,3])\n",
    "        meanz4=Statistics.mean(ver_in_ker_p4[:,3])\n",
    "        terrain_variables[c,7]=g[c,3]-meanz1        \n",
    "        terrain_variables[c,8]=g[c,3]-meanz2\n",
    "        terrain_variables[c,9]=g[c,3]-meanz3\n",
    "        terrain_variables[c,10]=g[c,3]-meanz4\n",
    "        M4=fit(PCA,ver_in_ker4)\n",
    "        M3=fit(PCA,ver_in_ker3)\n",
    "        M2=fit(PCA,ver_in_ker2)\n",
    "        M1=fit(PCA,ver_in_ker1)\n",
    "\n",
    "    end\n",
    "    return terrain_variables\n",
    "end\n",
    "\n",
    "@time calcs01(100)"
   ]
  },
  {
   "cell_type": "code",
   "execution_count": 146,
   "metadata": {},
   "outputs": [
    {
     "name": "stdout",
     "output_type": "stream",
     "text": [
      "  2.691318 seconds (65.59 M allocations: 1.175 GiB, 7.28% gc time)\n"
     ]
    },
    {
     "data": {
      "text/plain": [
       "23077×12 Array{Float16,2}:\n",
       " -1.176   0.7563  0.7563  0.7236  0.6963  …  -0.002792   0.03075    0.0  0.0\n",
       " -0.7466  1.186   0.5474  0.4282  0.1735      0.01471   -3.1e-5     0.0  0.0\n",
       " -0.756   1.176   0.5283  0.4236  0.1642      0.01066   -0.00331    0.0  0.0\n",
       " -0.739   1.193   0.5454  0.427   0.1494      0.01089   -0.006565   0.0  0.0\n",
       " -0.7583  1.174   0.54    0.4216  0.1617      0.01051   -0.002016   0.0  0.0\n",
       " -0.762   1.17    0.5396  0.4177  0.1693  …   0.011154  -0.00165    0.0  0.0\n",
       " -0.752   1.18    0.532   0.423   0.1681      0.01309   -0.00255    0.0  0.0\n",
       " -0.722   1.21    0.5547  0.4177  0.1484      0.01654   -0.00458    0.0  0.0\n",
       " -0.741   1.19    0.5566  0.4246  0.147       0.00631   -0.00894    0.0  0.0\n",
       " -0.7524  1.18    0.556   0.4219  0.1749      0.01291   -0.0008903  0.0  0.0\n",
       " -0.755   1.177   0.0     0.0     0.0     …   0.0        0.0        0.0  0.0\n",
       " -0.778   1.154   0.0     0.0     0.0         0.0        0.0        0.0  0.0\n",
       " -0.759   1.173   0.0     0.0     0.0         0.0        0.0        0.0  0.0\n",
       "  ⋮                                       ⋱                         ⋮    \n",
       " -0.587   1.345   0.0     0.0     0.0     …   0.0        0.0        0.0  0.0\n",
       " -0.5903  1.342   0.0     0.0     0.0         0.0        0.0        0.0  0.0\n",
       " -0.5625  1.369   0.0     0.0     0.0         0.0        0.0        0.0  0.0\n",
       " -0.588   1.344   0.0     0.0     0.0         0.0        0.0        0.0  0.0\n",
       " -0.55    1.382   0.0     0.0     0.0         0.0        0.0        0.0  0.0\n",
       " -0.5645  1.367   0.0     0.0     0.0     …   0.0        0.0        0.0  0.0\n",
       " -0.564   1.368   0.0     0.0     0.0         0.0        0.0        0.0  0.0\n",
       " -0.5757  1.356   0.0     0.0     0.0         0.0        0.0        0.0  0.0\n",
       " -0.5815  1.351   0.0     0.0     0.0         0.0        0.0        0.0  0.0\n",
       " -0.5674  1.364   0.0     0.0     0.0         0.0        0.0        0.0  0.0\n",
       " -0.5825  1.35    0.0     0.0     0.0     …   0.0        0.0        0.0  0.0\n",
       " -0.556   1.376   0.0     0.0     0.0         0.0        0.0        0.0  0.0"
      ]
     },
     "execution_count": 146,
     "metadata": {},
     "output_type": "execute_result"
    }
   ],
   "source": [
    "function calcs02(iter::Int8)\n",
    "    path_home=\"C:/Usees/KANKI/Documents/github/habmap\"\n",
    "    path_file_face=\"C:/Users/KANKI/Documents/github/habmap/Sfm_model/modelA01/ply_parts/faces_dataset.csv\"\n",
    "    path_file_v5=\"C:/Users/KANKI/Documents/github/habmap/Sfm_model/modelA01/ply_parts/vertice_dataset.csv\"\n",
    "    path_file_v1=\"C:/Users/KANKI/Documents/github/habmap/Sfm_model/modelA01/ply_parts/vertice_dataset_raw.csv\"\n",
    "    table_f=CSV.read(path_file_face,header=false, DataFrame)\n",
    "    table_v5=CSV.read(path_file_v5,header=false, DataFrame)\n",
    "    table_v1=CSV.read(path_file_v1,header=false, DataFrame)\n",
    "    \n",
    "    table_f=convert(Matrix,table_f)\n",
    "    table_v5=convert(Matrix,table_v5)\n",
    "    table_v1=convert(Matrix,table_v1)\n",
    "\n",
    "    row, col=size(table_f)\n",
    "    row_v1, col_v1=size(table_v1)\n",
    "    \n",
    "    g=zeros(Float16,row_v1,3)  \n",
    "    terrain_variables=zeros(Float16, row, 12)\n",
    "\n",
    "    bottom_all=findmin(table_v5[:,3])[1]    \n",
    "    for c=1:row\n",
    "        for d=1:3\n",
    "            g[c,d]=(table_v5[table_f[c,1]+1,d]+table_v5[table_f[c,2]+1,d]+table_v5[table_f[c,3]+1,d])/3\n",
    "        end\n",
    "    end\n",
    "    \n",
    "    for c=1:row\n",
    "        terrain_variables[c,1]=g[c,3]\n",
    "        terrain_variables[c,2]=g[c,3]-bottom_all\n",
    "    end\n",
    "    \n",
    "    for c=1:iter\n",
    "        distance=zeros(Float32, row_v1, 2)\n",
    "        for i2=1:row_v1\n",
    "            distance[i2,1]=(table_v1[i2,1]-g[c,1])^2+(table_v1[i2,2]-g[c,2])^2\n",
    "            distance[i2,2]=distance[i2,1]+(table_v1[i2,3]-g[c,3])^2\n",
    "        end\n",
    "        \n",
    "        kernels=[0.64, 0.16, 0.04, 0.01]\n",
    "        \n",
    "        #Calculating rugosity and bpi\n",
    "        \n",
    "        for (countk, kernel) in enumerate(kernels)\n",
    "            index_p=findall(distance[:,1] .< kernel)\n",
    "            ver_in_ker_p=zeros(Float32, size(index_p)[1], 1)\n",
    "            for (i, index) in enumerate(index_p)\n",
    "                ver_in_ker_p[i,1]=table_v1[index[1],3]\n",
    "            end \n",
    "            \n",
    "            index_v=findall(distance[:,2] .< kernel)\n",
    "            ver_in_ker=zeros(Float32, size(index_v)[1], 3)\n",
    "            for (i, index) in enumerate(index_v)\n",
    "                ver_in_ker[i,1:3]=table_v1[index[1],1:3]\n",
    "            end\n",
    "            \n",
    "            bottom=findmin(ver_in_ker_p)[1]\n",
    "            meanz=Statistics.mean(ver_in_ker_p[:,1])\n",
    "            terrain_variables[c,countk+2]=g[c,3]-bottom\n",
    "            terrain_variables[c,countk+6]=g[c,3]-meanz\n",
    "            M=fit(PCA,ver_in_ker)\n",
    "        end\n",
    "    end\n",
    "    return terrain_variables\n",
    "end\n",
    "\n",
    "@time calcs02(10)"
   ]
  },
  {
   "cell_type": "code",
   "execution_count": 9,
   "metadata": {},
   "outputs": [
    {
     "name": "stdout",
     "output_type": "stream",
     "text": [
      "  2.165228 seconds (7.61 M allocations: 2.114 GiB, 13.20% gc time)"
     ]
    },
    {
     "data": {
      "text/plain": [
       "23077×35 Array{Float32,2}:\n",
       " -1.17563   0.756259  0.645916   0.696403  …  4.16292  4.12406  3.97957  0.0\n",
       " -0.746547  1.18534   0.0737836  1.11937      4.89325  4.86727  4.74132  0.0\n",
       " -0.755625  1.17627   0.0725781  1.11029      4.86615  4.84067  4.71473  0.0\n",
       " -0.738991  1.1929    0.0575961  1.12693      4.96933  4.94168  4.81966  0.0\n",
       " -0.758527  1.17336   0.0733508  1.10739      4.83708  4.81173  4.68333  0.0\n",
       " -0.762139  1.16975   0.0762982  1.10378   …  4.80958  4.7837   4.65352  0.0\n",
       " -0.752011  1.17988   0.0763152  1.11391      4.89102  4.86527  4.74157  0.0\n",
       " -0.722222  1.20967   0.0595359  1.1437       5.06478  5.03602  4.91963  0.0\n",
       " -0.741074  1.19082   0.0547494  1.12484      4.95852  4.92998  4.80658  0.0\n",
       " -0.752242  1.17965   0.0682678  1.11368      4.85581  4.82795  4.69929  0.0\n",
       " -0.754886  1.177     0.0762733  1.11103   …  4.82935  4.80076  4.67095  0.0\n",
       " -0.777839  1.15405   0.0812641  1.08808      4.74224  4.71641  4.58402  0.0\n",
       " -0.758571  1.17332   0.073163   1.10735      4.83301  4.80851  4.68297  0.0\n",
       "  ⋮                                        ⋱                             \n",
       " -0.586678  1.34521   0.0        0.0       …  0.0      0.0      0.0      0.0\n",
       " -0.590416  1.34147   0.0        0.0          0.0      0.0      0.0      0.0\n",
       " -0.562384  1.36951   0.0        0.0          0.0      0.0      0.0      0.0\n",
       " -0.587729  1.34416   0.0        0.0          0.0      0.0      0.0      0.0\n",
       " -0.549993  1.3819    0.0        0.0          0.0      0.0      0.0      0.0\n",
       " -0.564606  1.36728   0.0        0.0       …  0.0      0.0      0.0      0.0\n",
       " -0.563845  1.36804   0.0        0.0          0.0      0.0      0.0      0.0\n",
       " -0.575701  1.35619   0.0        0.0          0.0      0.0      0.0      0.0\n",
       " -0.581775  1.35011   0.0        0.0          0.0      0.0      0.0      0.0\n",
       " -0.567207  1.36468   0.0        0.0          0.0      0.0      0.0      0.0\n",
       " -0.582558  1.34933   0.0        0.0       …  0.0      0.0      0.0      0.0\n",
       " -0.555987  1.3759    0.0        0.0          0.0      0.0      0.0      0.0"
      ]
     },
     "execution_count": 9,
     "metadata": {},
     "output_type": "execute_result"
    },
    {
     "name": "stdout",
     "output_type": "stream",
     "text": [
      "\n"
     ]
    }
   ],
   "source": [
    "path_home=\"C:/Usees/KANKI/Documents/github/habmap\"\n",
    "path_file_face=\"C:/Users/KANKI/Documents/github/habmap/Sfm_model/modelA01/ply_parts/faces_dataset.csv\"\n",
    "path_file_v5=\"C:/Users/KANKI/Documents/github/habmap/Sfm_model/modelA01/ply_parts/vertice_dataset.csv\"\n",
    "path_file_v1=\"C:/Users/KANKI/Documents/github/habmap/Sfm_model/modelA01/ply_parts/vertice_dataset_raw.csv\"\n",
    "path_file_n5=\"C:/Users/KANKI/Documents/github/habmap/Sfm_model/modelA01/ply_parts/vertice_normal.csv\"\n",
    "\n",
    "table_f=CSV.read(path_file_face,header=false, DataFrame)\n",
    "table_v5=CSV.read(path_file_v5,header=false, DataFrame)\n",
    "table_v1=CSV.read(path_file_v1,header=false, DataFrame)\n",
    "table_n5=CSV.read(path_file_n5,header=false, DataFrame)\n",
    "\n",
    "table_f=convert(Matrix,table_f)\n",
    "table_v5=convert(Matrix,table_v5)\n",
    "table_v1=convert(Matrix,table_v1)\n",
    "table_n5=convert(Matrix, table_n5)\n",
    "row=size(table_f)[1]\n",
    "\n",
    "\n",
    "function calcs03B(table_f, table_v5, table_v1, iter)\n",
    "    row, col=size(table_f)\n",
    "    row_v1, col_v1=size(table_v1)\n",
    "    metav=projection(fit(PCA,table_v1'))\n",
    "    tilt_direction=180+sign(metav[2])*(90+90-acos(metav[1]/(metav[1]^2+metav[2]^2)^0.5)/pi*180)\n",
    "    g=zeros(Float32,row_v1,3)\n",
    "    ng=zeros(Float32,row_v1,3)\n",
    "    terrain_variables=zeros(Float32, row, 35)\n",
    "\n",
    "    bottom_all=findmin(table_v5[:,3])[1]    \n",
    "    for c=1:row\n",
    "        for d=1:3\n",
    "            g[c,d]=(table_v5[table_f[c,1]+1,d]+table_v5[table_f[c,2]+1,d]+table_v5[table_f[c,3]+1,d])/3\n",
    "            ng[c,d]=(table_n5[table_f[c,1]+1,d]+table_n5[table_f[c,2]+1,d]+table_n5[table_f[c,3]+1,d])/3\n",
    "        end\n",
    "    end\n",
    "\n",
    "    for c=1:row\n",
    "        terrain_variables[c,1]=g[c,3]\n",
    "        terrain_variables[c,2]=g[c,3]-bottom_all\n",
    "    end\n",
    "    \n",
    "    for c=1:iter\n",
    "        distance=zeros(Float32, row_v1, 2)\n",
    "        for i2=1:row_v1\n",
    "            distance[i2,1]=(table_v1[i2,1]-g[c,1])^2+(table_v1[i2,2]-g[c,2])^2\n",
    "            distance[i2,2]=distance[i2,1]+(table_v1[i2,3]-g[c,3])^2\n",
    "        end\n",
    "        \n",
    "        kernels=[0.01, 0.04, 0.16, 0.64]\n",
    "        \n",
    "        #Calculating rugosity and bpi\n",
    "        \n",
    "        for (countk, kernel) in enumerate(kernels)\n",
    "            index_p=findall(distance[:,1] .< kernel)\n",
    "            ver_in_ker_p=zeros(Float32, size(index_p)[1], 1)\n",
    "            for (i, index) in enumerate(index_p)\n",
    "                ver_in_ker_p[i,1]=table_v1[index[1],3]\n",
    "            end \n",
    "            \n",
    "            index_v=findall(distance[:,2] .< kernel)\n",
    "            ver_in_ker=zeros(Float32, size(index_v)[1], 3)\n",
    "            for (i, index) in enumerate(index_v)\n",
    "                ver_in_ker[i,1:3]=table_v1[index[1],1:3]\n",
    "            end\n",
    "            \n",
    "            bottom=findmin(ver_in_ker_p[:,1])[1]\n",
    "            meanz=Statistics.mean(ver_in_ker_p[:,1])\n",
    "            terrain_variables[c,countk+2]=g[c,3]-bottom\n",
    "            terrain_variables[c,countk+6]=g[c,3]-meanz\n",
    "            M=fit(PCA,ver_in_ker')\n",
    "            if size(projection(M))[1] > 3\n",
    "                println(size(projection(M)))\n",
    "            end\n",
    "            \n",
    "            if size(projection(M))[2]==2\n",
    "                v3=cross(projection(M)[:,1],projection(M)[:,2])\n",
    "            elseif size(projection(M))[2]==3\n",
    "                v3=projection(M)[:,3]\n",
    "            else\n",
    "                println(size(projection(M)))\n",
    "            end\n",
    "            v3=v3*sign(ng[c,3])*sign(v3[3])\n",
    "            terrain_variables[c,countk+10]=90-acos(v3[1]/(v3[1]^2+v3[2]^2)^0.5)/pi*180\n",
    "            terrain_variables[c,countk+14]=90-acos(v3[2]/(v3[1]^2+v3[2]^2)^0.5)/pi*180\n",
    "            terrain_variables[c,countk+18]=180+sign(v3[2])*(90+terrain_variables[c,countk+10])\n",
    "            terrain_variables[c,countk+22]=findmin([abs(tilt_direction-terrain_variables[c,countk+18]),\n",
    "                    360-abs(tilt_direction-terrain_variables[c,countk+18])])[1]\n",
    "            terrain_variables[c,countk+26]=((pi/2)-atan(v3[3]/((v3[1]^2+v3[2]^2)^0.5)))/pi*180\n",
    "\n",
    "            distances=zeros(Float32, size(index_v)[1], 1)\n",
    "            d=-dot(v3, [mean(ver_in_ker[:,1]), mean(ver_in_ker[:,2]), mean(ver_in_ker[:,3])])\n",
    "            for j in 1:size(index_v)[1]\n",
    "                distance[j,1]=(dot(v3, ver_in_ker[j,1:3])+d)/sqrt(dot(v3,v3))\n",
    "            end\n",
    "            terrain_variables[c,countk+30]=mean(distance)\n",
    "        end\n",
    "    end\n",
    "    return terrain_variables\n",
    "end\n",
    "\n",
    "@time terrain_variables=calcs03B(table_f, table_v5, table_v1, 100)"
   ]
  },
  {
   "cell_type": "code",
   "execution_count": 225,
   "metadata": {},
   "outputs": [
    {
     "data": {
      "text/plain": [
       "PCA(indim = 3, outdim = 3, principalratio = 1.0)"
      ]
     },
     "execution_count": 225,
     "metadata": {},
     "output_type": "execute_result"
    }
   ],
   "source": [
    "table_v1=CSV.read(path_file_v1,header=false, DataFrame)\n",
    "table_v1=convert(Matrix,table_v1)\n",
    "M=fit(PCA,table_v1')"
   ]
  },
  {
   "cell_type": "code",
   "execution_count": 304,
   "metadata": {},
   "outputs": [
    {
     "data": {
      "text/plain": [
       "-0.9645507207854155"
      ]
     },
     "execution_count": 304,
     "metadata": {},
     "output_type": "execute_result"
    }
   ],
   "source": [
    "mean(table_v1)"
   ]
  },
  {
   "cell_type": "code",
   "execution_count": 279,
   "metadata": {},
   "outputs": [
    {
     "data": {
      "text/plain": [
       "3-element Array{Float64,1}:\n",
       " 1.828483\n",
       " 2.10013\n",
       " 0.996489"
      ]
     },
     "execution_count": 279,
     "metadata": {},
     "output_type": "execute_result"
    }
   ],
   "source": [
    "table_v1[end,:]*(-1)"
   ]
  },
  {
   "cell_type": "code",
   "execution_count": 227,
   "metadata": {},
   "outputs": [
    {
     "data": {
      "text/plain": [
       "3×3 Array{Float64,2}:\n",
       " 0.355061    0.91208   -0.20504\n",
       " 0.933308   -0.35841    0.0218613\n",
       " 0.0535493   0.199128   0.978509"
      ]
     },
     "execution_count": 227,
     "metadata": {},
     "output_type": "execute_result"
    }
   ],
   "source": [
    "projection(M)"
   ]
  },
  {
   "cell_type": "code",
   "execution_count": 255,
   "metadata": {},
   "outputs": [
    {
     "data": {
      "text/plain": [
       "10×3 Array{Float64,2}:\n",
       " 0.0  0.0  0.0\n",
       " 1.0  0.0  2.0\n",
       " 0.1  0.0  0.2\n",
       " 2.0  0.0  4.0\n",
       " 2.0  1.0  4.0\n",
       " 3.0  2.0  6.0\n",
       " 3.0  1.0  6.0\n",
       " 1.0  1.0  2.0\n",
       " 1.0  3.0  2.0\n",
       " 3.0  2.0  6.0"
      ]
     },
     "execution_count": 255,
     "metadata": {},
     "output_type": "execute_result"
    }
   ],
   "source": [
    "vec=[\n",
    "0 0 0\n",
    "1 0 2\n",
    "0.1 0 0.2\n",
    "2 0 4\n",
    "2 1 4\n",
    "3 2 6\n",
    "3 1 6\n",
    "1 1 2\n",
    "1 3 2\n",
    "3 2 6\n",
    "]"
   ]
  },
  {
   "cell_type": "code",
   "execution_count": 256,
   "metadata": {},
   "outputs": [
    {
     "data": {
      "text/plain": [
       "PCA(indim = 3, outdim = 2, principalratio = 1.0)"
      ]
     },
     "execution_count": 256,
     "metadata": {},
     "output_type": "execute_result"
    }
   ],
   "source": [
    "M=fit(PCA, vec')"
   ]
  },
  {
   "cell_type": "code",
   "execution_count": 260,
   "metadata": {},
   "outputs": [
    {
     "data": {
      "text/plain": [
       "3-element Array{Float64,1}:\n",
       " 0.4378581137781208\n",
       " 0.2034732439249236\n",
       " 0.8757162275562413"
      ]
     },
     "execution_count": 260,
     "metadata": {},
     "output_type": "execute_result"
    }
   ],
   "source": [
    "projection(M)[:,1]"
   ]
  },
  {
   "cell_type": "code",
   "execution_count": 261,
   "metadata": {},
   "outputs": [
    {
     "data": {
      "text/plain": [
       "3-element Array{Float64,1}:\n",
       "  0.8944271909999157\n",
       "  4.163336342344337e-17\n",
       " -0.447213595499958"
      ]
     },
     "execution_count": 261,
     "metadata": {},
     "output_type": "execute_result"
    }
   ],
   "source": [
    "v3=cross(projection(M)[:,1], projection(M)[:,2])"
   ]
  },
  {
   "cell_type": "code",
   "execution_count": 238,
   "metadata": {},
   "outputs": [],
   "source": [
    "using LinearAlgebra"
   ]
  },
  {
   "cell_type": "code",
   "execution_count": 235,
   "metadata": {},
   "outputs": [],
   "source": [
    "import Base"
   ]
  },
  {
   "cell_type": "code",
   "execution_count": 224,
   "metadata": {},
   "outputs": [
    {
     "data": {
      "text/plain": [
       "-0.00022286301599994118"
      ]
     },
     "execution_count": 224,
     "metadata": {},
     "output_type": "execute_result"
    }
   ],
   "source": [
    "0.268*0.511+0.3575*(-0.8399)+0.894476*0.182334"
   ]
  },
  {
   "cell_type": "code",
   "execution_count": 248,
   "metadata": {},
   "outputs": [
    {
     "data": {
      "text/plain": [
       "-15.051828879749038"
      ]
     },
     "execution_count": 248,
     "metadata": {},
     "output_type": "execute_result"
    }
   ],
   "source": [
    "90-acos(v3[1]/(v3[1]^2+v3[2]^2)^0.5)/pi*180"
   ]
  }
 ],
 "metadata": {
  "kernelspec": {
   "display_name": "Julia 1.5.3",
   "language": "julia",
   "name": "julia-1.5"
  },
  "language_info": {
   "file_extension": ".jl",
   "mimetype": "application/julia",
   "name": "julia",
   "version": "1.5.3"
  }
 },
 "nbformat": 4,
 "nbformat_minor": 4
}
