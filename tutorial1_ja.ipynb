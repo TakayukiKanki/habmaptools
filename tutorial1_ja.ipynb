{
 "cells": [
  {
   "cell_type": "markdown",
   "metadata": {},
   "source": [
    "Process of habitat mapping: \n",
    "1. Construct 3d models (Visual SfM)\n",
    "2. 3D model processing (Meshlab) (calibration for scale and orientation, meshing)  \n",
    "3. Calculate terrain variables (Tutorial1)\n",
    "4. Make occurrence dataset (Meshlab)   \n",
    "5. Convert data format for habitat suitability modelling (Tutorial2)\n",
    "6. Habitat suitability modelling (MaxEnt)  \n",
    "7. Habitat mapping on TIN model (Tutorial3)\n",
    "\n",
    "See documents details about Process 1, 2, 4, 6"
   ]
  },
  {
   "cell_type": "markdown",
   "metadata": {},
   "source": [
    "ハビタットマッピング実施のプロセス\n",
    "1. 3次元モデルの構築 (Visual SfM)\n",
    "2. 3次元モデルの編集 (Meshlab) (スケール・方位の校正やメッシュ化など)\n",
    "3. 地形条件の計算 (Tutorial 1での解説内容)\n",
    "4. 生物の出現データの生成(Meshlab)\n",
    "5. MaxEntに適用するためのデータ形式の変更(Tutorial2)\n",
    "6. MaxEntでの生息適地モデリング\n",
    "7. TINモデル上に予測図を作成する(Tutorial2)\n",
    "\n",
    "Tutorialでは，3, 5, 7の内容を実行します．1, 2, 4, 6は別のソフトウェアを用いて作業を行う必要があります．\n",
    "これらの詳細なやり方は，habmaptoolsデータセット準備マニュアルにおいて解説しています．\n",
    "本コードの最も簡単な動かし方は，リポジトリ全体をダウンロードし，habmaptools.pyと同じディレクトリ（tutorial1.ipynbも同じ階層に含む)上で\n",
    "tutorialのpathやデータを置き換えて用いることです．"
   ]
  },
  {
   "cell_type": "markdown",
   "metadata": {},
   "source": [
    "Tutorial1: read ply file and calculate terrain variables"
   ]
  },
  {
   "cell_type": "markdown",
   "metadata": {},
   "source": [
    "Recommended1: run block1 and block2  \n",
    "Recommended2: run block1 and block2 (comment out line 21), next run Tutorial1B"
   ]
  },
  {
   "cell_type": "markdown",
   "metadata": {},
   "source": [
    "tutorial 1では，セル[1]とセル[2]を実行すれば，とりあえず地形条件が計算できます．"
   ]
  },
  {
   "cell_type": "code",
   "execution_count": 1,
   "metadata": {},
   "outputs": [],
   "source": [
    "#import libraries\n",
    "import numpy as np\n",
    "import matplotlib\n",
    "import matplotlib.pyplot as plt\n",
    "import pandas as pd\n",
    "import os\n",
    "import cv2\n",
    "import habmaptools"
   ]
  },
  {
   "cell_type": "markdown",
   "metadata": {},
   "source": [
    "以下のセルに示したメインプロセスのみを動かせば，最も簡単に全ての地形条件を取得できる． \n",
    "マニュアルに倣って，3次元点群モデルとメッシュモデルを用意してください．\n",
    "path_file, path_output, model_fileの指定を用意したモデル，お使いの環境に合うように設定すればよい．\n",
    "ただし，さらに高速に動作するJuliaによる計算プログラムや異なる計算範囲の地形条件を計算するツールを公開しています．  \n",
    "Juliaコードを用いる場合には，#Main01ブロックまで実行してください．"
   ]
  },
  {
   "cell_type": "code",
   "execution_count": 2,
   "metadata": {},
   "outputs": [
    {
     "name": "stdout",
     "output_type": "stream",
     "text": [
      "13427 23077\n",
      "Wall time: 9.85 s\n"
     ]
    }
   ],
   "source": [
    "#Main Process01\n",
    "#pathを正しく設定すれば，以下のコードで地形条件計算までの機能を行えます．\n",
    "#Juliaで地形条件を計算する場合には，最終行をコメントアウトしてください．\n",
    "path_file=os.getcwd()+\"/sample/sample_model/\"\n",
    "path_output=os.getcwd()+\"/sample/sample_output/\"\n",
    "kernel_size=[0.1, 0.2, 0.4, 0.8]\n",
    "\n",
    "model_file=[\"modelA01\"]#, \"modelR01\"]\n",
    "for model_index in model_file:\n",
    "    path_mesh = path_file+model_index+\"_mesh.ply\"\n",
    "    path_vert = path_file+model_index+\"_vert.ply\"\n",
    "    path_data=os.getcwd()+\"/sample/sample_output/\"+model_index+\"/\"\n",
    "    os.makedirs(path_data, exist_ok=True)\n",
    "    \n",
    "    #01 read ply model\n",
    "    habmaptools.main_mesh(path_mesh, path_data)\n",
    "    habmaptools.main_raw(path_vert, path_data)\n",
    "    \n",
    "    #02 calculate terrain variables (default set >comment on next cell)\n",
    "    p1, v1, f1 = habmaptools.ply_read(path_file+model_index+\"_mesh.ply\")\n",
    "    print(len(v1),len(f1)) #the length of vertice and face\n",
    "    path_data=os.getcwd()+\"/sample/sample_output/\"+model_index+\"/ply_parts/\"\n",
    "    \n",
    "    #stop_point番目までの地形条件を計算する．本番ではstop_point=-1に変更してください．\n",
    "    #habmaptools.main_calc_variables(model_index, path_data, path_output, kernel_size, stop_point=-1)\n",
    "    %time habmaptools.main_calc_variables(model_index, path_data, path_output, kernel_size, stop_point=100)"
   ]
  },
  {
   "cell_type": "markdown",
   "metadata": {},
   "source": [
    "計算した地形条件をplyファイルにマッピングする．"
   ]
  },
  {
   "cell_type": "markdown",
   "metadata": {},
   "source": [
    "現在のプログラムでは20000面を対象に地形条件を計算するのに30分ほど時間がかかります．  \n",
    "Juliaプログラムでは5倍ほど高速で計算できますのでそちらの使用を推奨します．  \n",
    "Pythonのほうももう少し早くなるはずですが，主目的ではないので取り組む暇がないでいます．  "
   ]
  },
  {
   "cell_type": "markdown",
   "metadata": {},
   "source": [
    "本tutorialで説明している機能一覧です．\n",
    "01A"
   ]
  },
  {
   "cell_type": "code",
   "execution_count": 2,
   "metadata": {},
   "outputs": [
    {
     "name": "stdout",
     "output_type": "stream",
     "text": [
      "[['-2.912616' '-0.1831709' '-1.14842' '-0.9602985' '0.105398' '0.2582982'\n",
      "  '255' '255' '255' '255' '\\n']\n",
      " ['0.1401883' '-0.02865968' '-0.7065747' '-0.467076' '-0.222323'\n",
      "  '0.855811' '255' '255' '255' '255' '\\n']]\n",
      "[['3' '4295' '12411' '12750' '255' '255' '255' '255' '\\n']\n",
      " ['3' '5153' '6197' '7763' '255' '255' '255' '255' '\\n']]\n"
     ]
    }
   ],
   "source": [
    "#01A: read ply files and get property, vertice, faces dataset.\n",
    "#メッシュモデルのplyファイルを読み込み，プロパティ・頂点・面情報を取得します．\n",
    "model_index=\"modelA01\"\n",
    "path_file=os.getcwd()+\"/sample/sample_model/\"\n",
    "p1, v1, f1 = habmaptools.ply_read(path_file+model_index+\"_mesh.ply\") #引数はメッシュモデルのパスです．\n",
    "\n",
    "#頂点と面の最初2つの情報を出力します．\n",
    "print(v1[0:2]) #head of vertice datset\n",
    "print(f1[0:2]) #head of faces dataset"
   ]
  },
  {
   "cell_type": "code",
   "execution_count": 23,
   "metadata": {},
   "outputs": [
    {
     "name": "stdout",
     "output_type": "stream",
     "text": [
      "[['-0.2250313' '-0.4003885' '-1.135942' '-0.2775664' '-0.003079371'\n",
      "  '0.9607015' '\\n']\n",
      " ['-1.913142' '-0.4798024' '-0.005322363' '0.1240797' '0.3498206'\n",
      "  '0.9285633' '\\n']]\n",
      "[]\n"
     ]
    }
   ],
   "source": [
    "#01B: read ply files (vertice only) and get property, vertice dataset.\n",
    "#点群モデルのplyファイルを読み込み，プロパティ・頂点情報を取得します．01Aと同じ関数を用いるので，\n",
    "p2, v2, f2 = habmaptools.ply_read(path_file+model_index+\"_vert.ply\") #引数は点群モデルのパスです．\n",
    "\n",
    "#頂点の最初2つの情報を出力します．面はないので，何も出力されません．\n",
    "print(v2[0:2]) #head of vertice dataset\n",
    "print(f2) #faces dataset (Null)"
   ]
  },
  {
   "cell_type": "code",
   "execution_count": 9,
   "metadata": {},
   "outputs": [],
   "source": [
    "#02A: save the csv file of the vertice coordinates(vertice_dataset.csv), \n",
    "#vertice normal(vertice_normal.csv), faces (faces_dataaset.csv),\n",
    "#faces colors(faces_color.csv), property(property.csv), minimum property(length of vertices and faces)\n",
    "path_output=os.getcwd()+\"/sample/sample_output/\"\n",
    "habmaptools.write_csv(p1, v1, f1, path_output)"
   ]
  },
  {
   "cell_type": "code",
   "execution_count": null,
   "metadata": {},
   "outputs": [],
   "source": [
    "#02B: save the csv file of the vertice coordinates(vertice_dataset_vert.csv), \n",
    "#vertice normal(vertice_normal_vert.csv)\n",
    "path_output=os.getcwd()+\"/sample/sample_output/\"\n",
    "vertice_dataset2=pd.DataFrame(v2)\n",
    "vertice_dataset2.iloc[:,0:3].to_csv(path_output+'ply_parts/vertice_dataset_vert.csv',header=False, index=False)\n",
    "vertice_dataset2.iloc[:,3:6].to_csv(path_output+'ply_parts/vertice_normal_vert.csv',header=False, index=False)"
   ]
  },
  {
   "cell_type": "code",
   "execution_count": 14,
   "metadata": {},
   "outputs": [
    {
     "name": "stdout",
     "output_type": "stream",
     "text": [
      "mean edge length(m): 0.05113148385328753\n",
      "mean face areas(m^2): 0.0007684296161937915\n"
     ]
    }
   ],
   "source": [
    "#Func03: Analysis of mesh model\n",
    "d, S=habmaptools.analysis_mesh(v1, f1) #from Func01A\n",
    "print(\"mean edge length(m):\", np.mean(d))\n",
    "print(\"mean face areas(m^2):\", np.mean(S))"
   ]
  },
  {
   "cell_type": "code",
   "execution_count": null,
   "metadata": {},
   "outputs": [],
   "source": [
    "#Main01: merge Func01A~Func02B\n",
    "model_file=[\"modelA01\", \"modelR01\"]\n",
    "for model_index in model_file:\n",
    "    model_path = path_file+model_index+\".ply\"\n",
    "    os.makedirs(\"/ply_parts\", exist_ok=True)\n",
    "    habmaptools.main_mesh(model_path, path_output)\n",
    "    habmaptools.main_raw(model_path, path_output)"
   ]
  }
 ],
 "metadata": {
  "kernelspec": {
   "display_name": "Python 3",
   "language": "python",
   "name": "python3"
  },
  "language_info": {
   "codemirror_mode": {
    "name": "ipython",
    "version": 3
   },
   "file_extension": ".py",
   "mimetype": "text/x-python",
   "name": "python",
   "nbconvert_exporter": "python",
   "pygments_lexer": "ipython3",
   "version": "3.7.3"
  }
 },
 "nbformat": 4,
 "nbformat_minor": 4
}
