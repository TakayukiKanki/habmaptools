{
 "cells": [
  {
   "cell_type": "code",
   "execution_count": null,
   "metadata": {},
   "outputs": [],
   "source": [
    "start_index=[i*4+2 for i in range(7)]\n",
    "start_index"
   ]
  },
  {
   "cell_type": "code",
   "execution_count": null,
   "metadata": {},
   "outputs": [],
   "source": [
    "#Func05 kinds and kernels setting\n",
    "set1=habmaptools.terrain_variables_set(kernels=[0.1,0.4], param_no_kernel=[0, 1], param_use_kernel=[2,3,4])\n",
    "set2=habmaptools.terrain_variables_set(kernels=[0.1,0.2], param_no_kernel=[\"depth\", \"height\"], param_use_kernel=[2,3,4])\n",
    "set3=habmaptools.terrain_variables_set(kernels=[0.1,0.2], param_no_kernel=[1], param_use_kernel=[\"rugosity\", \"BPI\", \"slope\"])\n",
    "print(set1)\n",
    "print(set2)\n",
    "print(set3)"
   ]
  }
 ],
 "metadata": {
  "kernelspec": {
   "display_name": "Python 3",
   "language": "python",
   "name": "python3"
  },
  "language_info": {
   "codemirror_mode": {
    "name": "ipython",
    "version": 3
   },
   "file_extension": ".py",
   "mimetype": "text/x-python",
   "name": "python",
   "nbconvert_exporter": "python",
   "pygments_lexer": "ipython3",
   "version": "3.7.3"
  }
 },
 "nbformat": 4,
 "nbformat_minor": 4
}
