{
 "cells": [
  {
   "cell_type": "code",
   "execution_count": 1,
   "metadata": {},
   "outputs": [],
   "source": [
    "#import libraries\n",
    "import numpy as np\n",
    "import matplotlib\n",
    "import matplotlib.pyplot as plt\n",
    "import pandas as pd\n",
    "import os\n",
    "import cv2\n",
    "\n",
    "import habmaptools"
   ]
  },
  {
   "cell_type": "code",
   "execution_count": 8,
   "metadata": {},
   "outputs": [
    {
     "name": "stdout",
     "output_type": "stream",
     "text": [
      "[['-2.912616' '-0.1831709' '-1.14842' '-0.9602985' '0.105398' '0.2582982'\n",
      "  '255' '255' '255' '255' '\\n']\n",
      " ['0.1401883' '-0.02865968' '-0.7065747' '-0.467076' '-0.222323'\n",
      "  '0.855811' '255' '255' '255' '255' '\\n']]\n",
      "[['3' '4295' '12411' '12750' '255' '255' '255' '255' '\\n']\n",
      " ['3' '5153' '6197' '7763' '255' '255' '255' '255' '\\n']]\n"
     ]
    }
   ],
   "source": [
    "#Func01A: read ply files and get property, vertice, faces dataset.\n",
    "model_index=\"modelA01\"\n",
    "path_file=os.getcwd()+\"/sample/sample_model/\"\n",
    "p1, v1, f1 = habmaptools.ply_read(path_file+model_index+\"_mesh.ply\")\n",
    "print(v1[0:2])\n",
    "print(f1[0:2])"
   ]
  },
  {
   "cell_type": "code",
   "execution_count": 23,
   "metadata": {},
   "outputs": [
    {
     "name": "stdout",
     "output_type": "stream",
     "text": [
      "[['-0.2250313' '-0.4003885' '-1.135942' '-0.2775664' '-0.003079371'\n",
      "  '0.9607015' '\\n']\n",
      " ['-1.913142' '-0.4798024' '-0.005322363' '0.1240797' '0.3498206'\n",
      "  '0.9285633' '\\n']]\n",
      "[]\n"
     ]
    }
   ],
   "source": [
    "#Func01B: read ply files (vertice only) and get property, vertice dataset.\n",
    "p2, v2, f2 = habmaptools.ply_read(path_file+model_index+\"_vert.ply\")\n",
    "print(v2[0:2])\n",
    "print(f2)"
   ]
  },
  {
   "cell_type": "code",
   "execution_count": 9,
   "metadata": {},
   "outputs": [],
   "source": [
    "#Func02A: save the csv file of the vertice coordinates(vertice_dataset.csv), \n",
    "#vertice normal(vertice_normal.csv), faces (faces_dataaset.csv),\n",
    "#faces colors(faces_color.csv), property(property.csv), minimum property(length of vertices and faces)\n",
    "path_output=os.getcwd()+\"/sample/sample_output/\"\n",
    "habmaptools.write_csv(p1, v1, f1, path_output)"
   ]
  },
  {
   "cell_type": "code",
   "execution_count": null,
   "metadata": {},
   "outputs": [],
   "source": [
    "#Func02A: save the csv file of the vertice coordinates(vertice_dataset_vert.csv), \n",
    "#vertice normal(vertice_normal_vert.csv)\n",
    "path_output=os.getcwd()+\"/sample/sample_output/\"\n",
    "vertice_dataset2=pd.DataFrame(v2)\n",
    "vertice_dataset2.iloc[:,0:3].to_csv(path_output+'ply_parts/vertice_dataset_vert.csv',header=False, index=False)\n",
    "vertice_dataset2.iloc[:,3:6].to_csv(path_output+'ply_parts/vertice_normal_vert.csv',header=False, index=False)"
   ]
  },
  {
   "cell_type": "code",
   "execution_count": 14,
   "metadata": {},
   "outputs": [
    {
     "name": "stdout",
     "output_type": "stream",
     "text": [
      "mean edge length(m): 0.05113148385328753\n",
      "mean face areas(m^2): 0.0007684296161937915\n"
     ]
    }
   ],
   "source": [
    "#Func03: Analysis of mesh model\n",
    "d, S=habmaptools.analysis_mesh(v1, f1) #from Func01A\n",
    "print(\"mean edge length(m):\", np.mean(d))\n",
    "print(\"mean face areas(m^2):\", np.mean(S))"
   ]
  },
  {
   "cell_type": "code",
   "execution_count": null,
   "metadata": {},
   "outputs": [],
   "source": [
    "#Main01: merge Func01A~Func02B\n",
    "model_file=[\"modelA01\", \"modelR01\"]\n",
    "for model_index in model_file:\n",
    "    model_path = path_file+model_index+\".ply\"\n",
    "    os.makedirs(\"/ply_parts\", exist_ok=True)\n",
    "    habmaptools.main_mesh(model_path, path_output)\n",
    "    habmaptools.main_raw(model_path, path_output)"
   ]
  },
  {
   "cell_type": "code",
   "execution_count": 24,
   "metadata": {},
   "outputs": [],
   "source": [
    "#calc terrain variables\n",
    "#kinds and kernels setting\n",
    "param_calc=[\"depth0\", \"height0\"]\n",
    "attributes_with_kernel=[\"rugosity\", \"BPI\", \"orix\", \"oriy\", \"azimuth\", \"shoreside\", \"slope\", \"rg_std\", \"sp\"]\n",
    "kernel_size=[0.1, 0.2, 0.4, 0.8]\n",
    "for var in attributes_with_kernel:\n",
    "    for j in kernel_size:\n",
    "        param_calc.append(var+str(j).replace(\".\",\"_\"))"
   ]
  },
  {
   "cell_type": "code",
   "execution_count": 71,
   "metadata": {},
   "outputs": [
    {
     "data": {
      "text/plain": [
       "['depth', 'height', 'rugosity0_1', 'rugosity0_4', 'BPI0_1', 'BPI0_4']"
      ]
     },
     "execution_count": 71,
     "metadata": {},
     "output_type": "execute_result"
    }
   ],
   "source": [
    "terrain_variables_set(kernels=[0.1,0.4], param_no_kernel=[0, 1], param_use_kernel=[2,3,])"
   ]
  },
  {
   "cell_type": "code",
   "execution_count": 70,
   "metadata": {},
   "outputs": [],
   "source": [
    "#Func05\n",
    "def terrain_variables_set(kernels, param_no_kernel, param_use_kernel):\n",
    "    params_list=[\"depth\", \"height\", \"rugosity\", \"BPI\", \"orix\", \"oriy\", \"azimuth\", \"shoreside\", \"slope\", \"rgstd\",\"sp\"]\n",
    "    param_all=[]\n",
    "    if(type(param_no_kernel[0])==str):\n",
    "        for (i, param) in enumerate(param_no_kernel):\n",
    "            param_all.append(param)\n",
    "    elif(type(param_no_kernel[0])==int):\n",
    "        for (i, param) in enumerate(param_no_kernel):\n",
    "            if(param<2):\n",
    "                param_all.append(params_list[param])\n",
    "    if(type(param_use_kernel[0])==str):\n",
    "        for (i, param) in enumerate(param_use_kernel):\n",
    "            for kernel in kernels:\n",
    "                param_all.append(param+str(kernel).replace(\".\",\"_\"))\n",
    "    elif(type(param_use_kernel[0])==int):\n",
    "        for (i, param) in enumerate(param_use_kernel):\n",
    "            if(param>1):\n",
    "                for kernel in kernels:\n",
    "                    param_all.append(params_list[param]+str(kernel).replace(\".\",\"_\"))\n",
    "    return(param_all)"
   ]
  },
  {
   "cell_type": "code",
   "execution_count": null,
   "metadata": {},
   "outputs": [],
   "source": []
  }
 ],
 "metadata": {
  "kernelspec": {
   "display_name": "Python 3",
   "language": "python",
   "name": "python3"
  },
  "language_info": {
   "codemirror_mode": {
    "name": "ipython",
    "version": 3
   },
   "file_extension": ".py",
   "mimetype": "text/x-python",
   "name": "python",
   "nbconvert_exporter": "python",
   "pygments_lexer": "ipython3",
   "version": "3.7.3"
  }
 },
 "nbformat": 4,
 "nbformat_minor": 4
}
