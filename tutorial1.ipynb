{
 "cells": [
  {
   "cell_type": "code",
   "execution_count": 1,
   "metadata": {},
   "outputs": [],
   "source": [
    "#import libraries\n",
    "import numpy as np\n",
    "import matplotlib\n",
    "import matplotlib.pyplot as plt\n",
    "import pandas as pd\n",
    "import os\n",
    "import cv2\n",
    "\n",
    "import habmaptools"
   ]
  },
  {
   "cell_type": "code",
   "execution_count": 8,
   "metadata": {},
   "outputs": [
    {
     "name": "stdout",
     "output_type": "stream",
     "text": [
      "[['-2.912616' '-0.1831709' '-1.14842' '-0.9602985' '0.105398' '0.2582982'\n",
      "  '255' '255' '255' '255' '\\n']\n",
      " ['0.1401883' '-0.02865968' '-0.7065747' '-0.467076' '-0.222323'\n",
      "  '0.855811' '255' '255' '255' '255' '\\n']]\n",
      "[['3' '4295' '12411' '12750' '255' '255' '255' '255' '\\n']\n",
      " ['3' '5153' '6197' '7763' '255' '255' '255' '255' '\\n']]\n"
     ]
    }
   ],
   "source": [
    "#Func01: read ply files and get property, vertice, faces dataset.\n",
    "model_index=\"modelA01\"\n",
    "path_file=os.getcwd()+\"/sample/sample_model/\"\n",
    "p, v, f = habmaptools.ply_read(path_file+model_index+\"_mesh.ply\")\n",
    "print(v[0:2])\n",
    "print(f[0:2])"
   ]
  },
  {
   "cell_type": "code",
   "execution_count": 9,
   "metadata": {},
   "outputs": [],
   "source": [
    "#Func02: save the csv file of the vertice coordinates(vertice_dataset.csv), \n",
    "#vertice normal(vertice_normal.csv), faces (faces_dataaset.csv),\n",
    "#faces colors(faces_color.csv), property(property.csv), minimum property(length of vertices and faces)\n",
    "path_output=os.getcwd()+\"/sample/sample_output/\"\n",
    "habmaptools.write_csv(p, v, f, path_output)"
   ]
  },
  {
   "cell_type": "code",
   "execution_count": 14,
   "metadata": {},
   "outputs": [
    {
     "name": "stdout",
     "output_type": "stream",
     "text": [
      "mean edge length(m): 0.05113148385328753\n",
      "mean face areas(m^2): 0.0007684296161937915\n"
     ]
    }
   ],
   "source": [
    "#Func03: Analysis of mesh model\n",
    "d, S=habmaptools.analysis_mesh(v, f)\n",
    "print(\"mean edge length(m):\", np.mean(d))\n",
    "print(\"mean face areas(m^2):\", np.mean(S))"
   ]
  },
  {
   "cell_type": "code",
   "execution_count": 8,
   "metadata": {},
   "outputs": [
    {
     "name": "stdout",
     "output_type": "stream",
     "text": [
      "A01  "
     ]
    },
    {
     "ename": "FileNotFoundError",
     "evalue": "[WinError 2] 指定されたファイルが見つかりません。: 'C:\\\\Users\\\\KANKI\\\\Documents\\\\github\\\\habmap\\\\habmaptools/sample/sample_output\\\\modelA01'",
     "output_type": "error",
     "traceback": [
      "\u001b[1;31m---------------------------------------------------------------------------\u001b[0m",
      "\u001b[1;31mFileNotFoundError\u001b[0m                         Traceback (most recent call last)",
      "\u001b[1;32m<ipython-input-8-4a0e1615dad6>\u001b[0m in \u001b[0;36m<module>\u001b[1;34m\u001b[0m\n\u001b[0;32m      6\u001b[0m     \u001b[0mprint\u001b[0m\u001b[1;33m(\u001b[0m\u001b[0mmodel_index\u001b[0m\u001b[1;33m,\u001b[0m \u001b[1;34m\" \"\u001b[0m\u001b[1;33m,\u001b[0m \u001b[0mend\u001b[0m\u001b[1;33m=\u001b[0m\u001b[1;34m\"\"\u001b[0m\u001b[1;33m)\u001b[0m\u001b[1;33m\u001b[0m\u001b[1;33m\u001b[0m\u001b[0m\n\u001b[0;32m      7\u001b[0m     \u001b[0mos\u001b[0m\u001b[1;33m.\u001b[0m\u001b[0mmakedirs\u001b[0m\u001b[1;33m(\u001b[0m\u001b[1;34m\"/ply_parts\"\u001b[0m\u001b[1;33m,\u001b[0m \u001b[0mexist_ok\u001b[0m\u001b[1;33m=\u001b[0m\u001b[1;32mTrue\u001b[0m\u001b[1;33m)\u001b[0m\u001b[1;33m\u001b[0m\u001b[1;33m\u001b[0m\u001b[0m\n\u001b[1;32m----> 8\u001b[1;33m     \u001b[0mhabmaptools\u001b[0m\u001b[1;33m.\u001b[0m\u001b[0mmain_mesh\u001b[0m\u001b[1;33m(\u001b[0m\u001b[0mmodel_index\u001b[0m\u001b[1;33m,\u001b[0m \u001b[0mpath_import\u001b[0m\u001b[1;33m)\u001b[0m\u001b[1;33m\u001b[0m\u001b[1;33m\u001b[0m\u001b[0m\n\u001b[0m\u001b[0;32m      9\u001b[0m     \u001b[0mhabmaptools\u001b[0m\u001b[1;33m.\u001b[0m\u001b[0mmain_raw\u001b[0m\u001b[1;33m(\u001b[0m\u001b[0mmodel_index\u001b[0m\u001b[1;33m,\u001b[0m \u001b[0mpath_import\u001b[0m\u001b[1;33m)\u001b[0m\u001b[1;33m\u001b[0m\u001b[1;33m\u001b[0m\u001b[0m\n",
      "\u001b[1;32m~\\Documents\\github\\habmap\\habmaptools\\habmaptools.py\u001b[0m in \u001b[0;36mmain_mesh\u001b[1;34m(model_index, path_now)\u001b[0m\n",
      "\u001b[1;31mFileNotFoundError\u001b[0m: [WinError 2] 指定されたファイルが見つかりません。: 'C:\\\\Users\\\\KANKI\\\\Documents\\\\github\\\\habmap\\\\habmaptools/sample/sample_output\\\\modelA01'"
     ]
    }
   ],
   "source": [
    "#Func04: merge Func01, Func02 \n",
    "model_file=[\"modelA01\", \"modelR01\"]\n",
    "for model_index in model_file:\n",
    "    os.makedirs(\"/ply_parts\", exist_ok=True)\n",
    "    habmaptools.main_mesh(model_index, path_import)\n",
    "    habmaptools.main_raw(model_index, path_import)"
   ]
  },
  {
   "cell_type": "code",
   "execution_count": null,
   "metadata": {},
   "outputs": [],
   "source": [
    "#calc terrain variables\n",
    "#kinds and kernels setting\n",
    "param_calc=[\"depth0\", \"height0\"]\n",
    "attributes_with_kernel=[\"rugosity\", \"BPI\", \"orix\", \"oriy\", \"azimuth\", \"shoreside\", \"slope\", \"rg_std\", \"sp\"]\n",
    "kernel_size=[0.1, 0.2, 0.4, 0.8]\n",
    "for var in attributes_with_kernel:\n",
    "    for j in kernel_size:\n",
    "        param_calc.append(var+str(j).replace(\".\",\"_\"))\n"
   ]
  }
 ],
 "metadata": {
  "kernelspec": {
   "display_name": "Python 3",
   "language": "python",
   "name": "python3"
  },
  "language_info": {
   "codemirror_mode": {
    "name": "ipython",
    "version": 3
   },
   "file_extension": ".py",
   "mimetype": "text/x-python",
   "name": "python",
   "nbconvert_exporter": "python",
   "pygments_lexer": "ipython3",
   "version": "3.7.3"
  }
 },
 "nbformat": 4,
 "nbformat_minor": 4
}
