{
 "cells": [
  {
   "cell_type": "markdown",
   "metadata": {},
   "source": [
    "plyファイルを読み込んで，地形条件を計算するまでのチュートリアル"
   ]
  },
  {
   "cell_type": "code",
   "execution_count": null,
   "metadata": {},
   "outputs": [],
   "source": [
    "#import libraries\n",
    "import numpy as np\n",
    "import matplotlib\n",
    "import matplotlib.pyplot as plt\n",
    "import pandas as pd\n",
    "import os\n",
    "import cv2\n",
    "\n",
    "import habmaptools"
   ]
  },
  {
   "cell_type": "markdown",
   "metadata": {},
   "source": [
    "メインプロセスのみを動かせば，最も簡単に全ての地形条件を取得できる．  \n",
    "ただし，10倍以上高速に動作するJuliaによる計算プログラムや異なる計算範囲の地形条件を計算するツールを公開しています．（予定）"
   ]
  },
  {
   "cell_type": "code",
   "execution_count": 3,
   "metadata": {},
   "outputs": [
    {
     "name": "stdout",
     "output_type": "stream",
     "text": [
      "Wall time: 9.96 s\n"
     ]
    }
   ],
   "source": [
    "#Main Process01\n",
    "path_file=os.getcwd()+\"/sample/sample_model/\"\n",
    "path_output=os.getcwd()+\"/sample/sample_output/\"\n",
    "\n",
    "model_file=[\"modelA01\"]#, \"modelR01\"]\n",
    "for model_index in model_file:\n",
    "    path_mesh = path_file+model_index+\"_mesh.ply\"\n",
    "    path_vert = path_file+model_index+\"_vert.ply\"\n",
    "    path_data=os.getcwd()+\"/sample/sample_output/\"+model_index+\"/\"\n",
    "    os.makedirs(path_data, exist_ok=True)\n",
    "    #Main01 read ply model\n",
    "    habmaptools.main_mesh(path_mesh, path_data)\n",
    "    habmaptools.main_raw(path_vert, path_data)\n",
    "    #Main02 calculate terrain variables (default set >comment on next cell)\n",
    "    path_data=os.getcwd()+\"/sample/sample_output/\"+model_index+\"/ply_parts/\"\n",
    "    %time habmaptools.main_calc_variables(model_index, path_data, path_output, stop_point=100)"
   ]
  },
  {
   "cell_type": "code",
   "execution_count": 2,
   "metadata": {},
   "outputs": [
    {
     "name": "stdout",
     "output_type": "stream",
     "text": [
      "[['-2.912616' '-0.1831709' '-1.14842' '-0.9602985' '0.105398' '0.2582982'\n",
      "  '255' '255' '255' '255' '\\n']\n",
      " ['0.1401883' '-0.02865968' '-0.7065747' '-0.467076' '-0.222323'\n",
      "  '0.855811' '255' '255' '255' '255' '\\n']]\n",
      "[['3' '4295' '12411' '12750' '255' '255' '255' '255' '\\n']\n",
      " ['3' '5153' '6197' '7763' '255' '255' '255' '255' '\\n']]\n"
     ]
    }
   ],
   "source": [
    "#01A: read ply files and get property, vertice, faces dataset.\n",
    "model_index=\"modelA01\"\n",
    "path_file=os.getcwd()+\"/sample/sample_model/\"\n",
    "p1, v1, f1 = habmaptools.ply_read(path_file+model_index+\"_mesh.ply\")\n",
    "print(v1[0:2]) #head of vertice datset\n",
    "print(f1[0:2]) #head of faces dataset"
   ]
  },
  {
   "cell_type": "code",
   "execution_count": 23,
   "metadata": {},
   "outputs": [
    {
     "name": "stdout",
     "output_type": "stream",
     "text": [
      "[['-0.2250313' '-0.4003885' '-1.135942' '-0.2775664' '-0.003079371'\n",
      "  '0.9607015' '\\n']\n",
      " ['-1.913142' '-0.4798024' '-0.005322363' '0.1240797' '0.3498206'\n",
      "  '0.9285633' '\\n']]\n",
      "[]\n"
     ]
    }
   ],
   "source": [
    "#01B: read ply files (vertice only) and get property, vertice dataset.\n",
    "p2, v2, f2 = habmaptools.ply_read(path_file+model_index+\"_vert.ply\")\n",
    "print(v2[0:2]) #head of vertice dataset\n",
    "print(f2) #faces dataset (Null)"
   ]
  },
  {
   "cell_type": "code",
   "execution_count": 9,
   "metadata": {},
   "outputs": [],
   "source": [
    "#02A: save the csv file of the vertice coordinates(vertice_dataset.csv), \n",
    "#vertice normal(vertice_normal.csv), faces (faces_dataaset.csv),\n",
    "#faces colors(faces_color.csv), property(property.csv), minimum property(length of vertices and faces)\n",
    "path_output=os.getcwd()+\"/sample/sample_output/\"\n",
    "habmaptools.write_csv(p1, v1, f1, path_output)"
   ]
  },
  {
   "cell_type": "code",
   "execution_count": null,
   "metadata": {},
   "outputs": [],
   "source": [
    "#02B: save the csv file of the vertice coordinates(vertice_dataset_vert.csv), \n",
    "#vertice normal(vertice_normal_vert.csv)\n",
    "path_output=os.getcwd()+\"/sample/sample_output/\"\n",
    "vertice_dataset2=pd.DataFrame(v2)\n",
    "vertice_dataset2.iloc[:,0:3].to_csv(path_output+'ply_parts/vertice_dataset_vert.csv',header=False, index=False)\n",
    "vertice_dataset2.iloc[:,3:6].to_csv(path_output+'ply_parts/vertice_normal_vert.csv',header=False, index=False)"
   ]
  },
  {
   "cell_type": "code",
   "execution_count": 14,
   "metadata": {},
   "outputs": [
    {
     "name": "stdout",
     "output_type": "stream",
     "text": [
      "mean edge length(m): 0.05113148385328753\n",
      "mean face areas(m^2): 0.0007684296161937915\n"
     ]
    }
   ],
   "source": [
    "#Func03: Analysis of mesh model\n",
    "d, S=habmaptools.analysis_mesh(v1, f1) #from Func01A\n",
    "print(\"mean edge length(m):\", np.mean(d))\n",
    "print(\"mean face areas(m^2):\", np.mean(S))"
   ]
  },
  {
   "cell_type": "code",
   "execution_count": null,
   "metadata": {},
   "outputs": [],
   "source": [
    "#Main01: merge Func01A~Func02B\n",
    "model_file=[\"modelA01\", \"modelR01\"]\n",
    "for model_index in model_file:\n",
    "    model_path = path_file+model_index+\".ply\"\n",
    "    os.makedirs(\"/ply_parts\", exist_ok=True)\n",
    "    habmaptools.main_mesh(model_path, path_output)\n",
    "    habmaptools.main_raw(model_path, path_output)"
   ]
  },
  {
   "cell_type": "code",
   "execution_count": null,
   "metadata": {},
   "outputs": [],
   "source": [
    "#Main02: calc terrain variables\n"
   ]
  },
  {
   "cell_type": "code",
   "execution_count": 3,
   "metadata": {},
   "outputs": [
    {
     "name": "stdout",
     "output_type": "stream",
     "text": [
      "['depth', 'height', 'rugosity0_1', 'rugosity0_4', 'BPI0_1', 'BPI0_4', 'orix0_1', 'orix0_4']\n",
      "['depth', 'height', 'rugosity0_1', 'rugosity0_2', 'BPI0_1', 'BPI0_2', 'orix0_1', 'orix0_2']\n",
      "['height', 'rugosity0_1', 'rugosity0_2', 'BPI0_1', 'BPI0_2', 'slope0_1', 'slope0_2']\n"
     ]
    }
   ],
   "source": [
    "#Func05 kinds and kernels setting\n",
    "set1=habmaptools.terrain_variables_set(kernels=[0.1,0.4], param_no_kernel=[0, 1], param_use_kernel=[2,3,4])\n",
    "set2=habmaptools.terrain_variables_set(kernels=[0.1,0.2], param_no_kernel=[\"depth\", \"height\"], param_use_kernel=[2,3,4])\n",
    "set3=habmaptools.terrain_variables_set(kernels=[0.1,0.2], param_no_kernel=[1], param_use_kernel=[\"rugosity\", \"BPI\", \"slope\"])\n",
    "print(set1)\n",
    "print(set2)\n",
    "print(set3)"
   ]
  },
  {
   "cell_type": "code",
   "execution_count": null,
   "metadata": {},
   "outputs": [],
   "source": []
  }
 ],
 "metadata": {
  "kernelspec": {
   "display_name": "Python 3",
   "language": "python",
   "name": "python3"
  },
  "language_info": {
   "codemirror_mode": {
    "name": "ipython",
    "version": 3
   },
   "file_extension": ".py",
   "mimetype": "text/x-python",
   "name": "python",
   "nbconvert_exporter": "python",
   "pygments_lexer": "ipython3",
   "version": "3.7.3"
  }
 },
 "nbformat": 4,
 "nbformat_minor": 4
}
